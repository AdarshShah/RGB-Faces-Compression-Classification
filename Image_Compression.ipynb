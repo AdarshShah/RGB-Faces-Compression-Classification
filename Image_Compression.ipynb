{
  "cells": [
    {
      "cell_type": "code",
      "execution_count": null,
      "metadata": {
        "id": "DJtr-1XNRzwt"
      },
      "outputs": [],
      "source": [
        "import numpy as np\n",
        "import pandas as pd\n",
        "from skimage.io import imread, imread_collection\n",
        "\n",
        "from sklearn.datasets import fetch_olivetti_faces\n",
        "from sklearn.decomposition import PCA, IncrementalPCA\n",
        "from sklearn.linear_model import ElasticNet, BayesianRidge\n",
        "\n",
        "from tensorflow.keras.models import Sequential\n",
        "from tensorflow.keras.layers import Input, Conv2D, Dense, Dropout\n",
        "from tensorflow.keras.activations import sigmoid\n",
        "from tensorflow.keras.optimizers import Adam\n",
        "from tensorflow.keras.losses import binary_crossentropy\n",
        "from tensorflow.keras.metrics import binary_accuracy\n",
        "\n",
        "from matplotlib import pyplot as plt\n",
        "from skimage.transform import resize\n",
        "from skimage.color import rgb2gray\n",
        "from skimage import img_as_float"
      ]
    },
    {
      "cell_type": "markdown",
      "metadata": {
        "id": "A9-48Hl2DnIg"
      },
      "source": [
        "RGB Faces Dataset"
      ]
    },
    {
      "cell_type": "code",
      "execution_count": null,
      "metadata": {
        "id": "Q1-ehFyzsU9r"
      },
      "outputs": [],
      "source": [
        "! mkdir ~/.kaggle\n",
        "! cp kaggle.json ~/.kaggle/\n",
        "! chmod 600 ~/.kaggle/kaggle.json"
      ]
    },
    {
      "cell_type": "code",
      "execution_count": null,
      "metadata": {
        "id": "SWqf_mwsseqg"
      },
      "outputs": [],
      "source": [
        "! kaggle datasets download -d gasgallo/faces-data-new"
      ]
    },
    {
      "cell_type": "code",
      "execution_count": null,
      "metadata": {
        "id": "69_uEsNH3EX-"
      },
      "outputs": [],
      "source": [
        "! unzip faces-data-new.zip"
      ]
    },
    {
      "cell_type": "markdown",
      "metadata": {
        "id": "053EozoHqmMd"
      },
      "source": [
        "Grayscale Faces Dataset"
      ]
    },
    {
      "cell_type": "code",
      "execution_count": null,
      "metadata": {
        "id": "152G1SYkSOgk"
      },
      "outputs": [],
      "source": [
        "dataset = fetch_olivetti_faces(return_X_y=True)\n",
        "faces = dataset[0]"
      ]
    },
    {
      "cell_type": "markdown",
      "metadata": {
        "id": "BRx2FCF_qBNp"
      },
      "source": [
        "# 1. Principle Component Analysis based Image Compression for Grayscale Faces"
      ]
    },
    {
      "cell_type": "code",
      "execution_count": null,
      "metadata": {
        "id": "WMdTeljuWT1g"
      },
      "outputs": [],
      "source": [
        "partition = (int)(len(faces)*0.6)\n",
        "train, test = faces,faces[partition:]\n",
        "img_test = np.reshape(test,(-1,64,64))"
      ]
    },
    {
      "cell_type": "code",
      "execution_count": null,
      "metadata": {
        "id": "g331-TaeiWtm"
      },
      "outputs": [],
      "source": [
        "for i in [200]:\n",
        "  pca = PCA(n_components=i)\n",
        "  pca.fit(train)\n",
        "  ytest = pca.transform(test)\n",
        "  ytest = pca.inverse_transform(ytest)\n",
        "  print(f'MSE for {i} eigenfaces : {np.sqrt(np.mean(np.square(test-ytest))):.5f}')\n",
        "ytest = np.reshape(ytest,newshape=(-1,64,64))"
      ]
    },
    {
      "cell_type": "code",
      "execution_count": null,
      "metadata": {
        "id": "n1VwaTY6i7Ln"
      },
      "outputs": [],
      "source": [
        "idx = np.random.randint(len(ytest))\n",
        "plt.subplot(141)\n",
        "plt.imshow(ytest[idx],cmap='gray')\n",
        "plt.subplot(142)\n",
        "plt.imshow(img_test[idx],cmap='gray')\n",
        "plt.subplot(143)\n",
        "idx = np.random.randint(len(ytest))\n",
        "plt.imshow(ytest[idx],cmap='gray')\n",
        "plt.subplot(144)\n",
        "plt.imshow(img_test[idx],cmap='gray')\n",
        "\n",
        "plt.show()\n",
        "plt.clf()"
      ]
    },
    {
      "cell_type": "markdown",
      "source": [
        "# 2. Classification on PCA data"
      ],
      "metadata": {
        "id": "7VqqR25d4pQq"
      }
    },
    {
      "cell_type": "code",
      "source": [
        "faces = imread_collection(['/content/Faces/*.jpg'],conserve_memory=False)\n",
        "np.random.shuffle(faces.files)\n",
        "X = list()\n",
        "for i,file in enumerate(faces.files):\n",
        "  X.append(resize(rgb2gray(img_as_float(faces.load_func(file))),(64,64)).flatten())\n",
        "\n",
        "Y = np.zeros(len(faces.data))\n",
        "for i,file in enumerate(faces.files):\n",
        "  string = file.split('_');\n",
        "  Y[i] = int(string[1])"
      ],
      "metadata": {
        "id": "qnqxE4LZ4tjZ"
      },
      "execution_count": null,
      "outputs": []
    },
    {
      "cell_type": "code",
      "source": [
        "X = np.array(X)\n",
        "partition = (int)(len(faces.data)*0.8)\n",
        "xtrain, xtest = np.array(X[:partition]),np.array(X[partition:])\n",
        "ytrain, ytest = Y[:partition],Y[partition:]"
      ],
      "metadata": {
        "id": "wrKTB9ps7l0P"
      },
      "execution_count": null,
      "outputs": []
    },
    {
      "cell_type": "code",
      "source": [
        "n_components=200\n",
        "pca = PCA(n_components)\n",
        "pca.fit(xtrain)\n",
        "test = pca.transform(xtest)\n",
        "test = pca.inverse_transform(test)\n",
        "print(f'MSE for {i} eigenfaces : {np.sqrt(np.mean(np.square(test-xtest))):.5f}')\n",
        "test = np.reshape(test,newshape=(-1,64,64))"
      ],
      "metadata": {
        "id": "yobX5vAz7pix"
      },
      "execution_count": null,
      "outputs": []
    },
    {
      "cell_type": "code",
      "source": [
        "idx = np.random.randint(len(test))\n",
        "plt.subplot(141)\n",
        "plt.imshow(test[idx],cmap='gray')\n",
        "plt.subplot(142)\n",
        "plt.imshow(np.reshape(xtest[idx],(64,64)),cmap='gray')\n",
        "plt.subplot(143)\n",
        "idx = np.random.randint(len(ytest))\n",
        "plt.imshow(test[idx],cmap='gray')\n",
        "plt.subplot(144)\n",
        "plt.imshow(np.reshape(xtest[idx],(64,64)),cmap='gray')\n",
        "\n",
        "plt.show()\n",
        "plt.clf()"
      ],
      "metadata": {
        "id": "R-jZ3085-Ae3"
      },
      "execution_count": null,
      "outputs": []
    },
    {
      "cell_type": "code",
      "source": [
        "xtrain = pca.transform(xtrain)\n",
        "xtrain.shape"
      ],
      "metadata": {
        "id": "7hFmRDlfAw_X"
      },
      "execution_count": null,
      "outputs": []
    },
    {
      "cell_type": "code",
      "source": [
        "ytrain = np.reshape(ytrain,(-1,1))\n",
        "ytrain.shape"
      ],
      "metadata": {
        "id": "JeIQ-nqDA1WT"
      },
      "execution_count": null,
      "outputs": []
    },
    {
      "cell_type": "code",
      "source": [
        "xtest = pca.transform(xtest)\n",
        "xtest.shape"
      ],
      "metadata": {
        "id": "S7Gv7CcjAyjq"
      },
      "execution_count": null,
      "outputs": []
    },
    {
      "cell_type": "code",
      "source": [
        "ytest = np.reshape(ytest,(-1,1))\n",
        "ytest.shape"
      ],
      "metadata": {
        "id": "7Jl50AZEAzkv"
      },
      "execution_count": null,
      "outputs": []
    },
    {
      "cell_type": "markdown",
      "source": [
        "## 2.1 Elastic Net Classifier"
      ],
      "metadata": {
        "id": "GhxGX2tPJA7r"
      }
    },
    {
      "cell_type": "code",
      "source": [
        "genderModel = ElasticNet()\n",
        "genderModel.fit(X=xtrain,y=ytrain)"
      ],
      "metadata": {
        "colab": {
          "base_uri": "https://localhost:8080/"
        },
        "id": "jS-PWB80JAOF",
        "outputId": "12c42817-9a05-425a-a92e-7ca151b0e05d"
      },
      "execution_count": null,
      "outputs": [
        {
          "output_type": "execute_result",
          "data": {
            "text/plain": [
              "ElasticNet()"
            ]
          },
          "metadata": {},
          "execution_count": 348
        }
      ]
    },
    {
      "cell_type": "code",
      "source": [
        "res = genderModel.predict(xtest)\n",
        "min = np.min(res)\n",
        "max = np.max(res)\n",
        "res = (res-min)/(max-min)"
      ],
      "metadata": {
        "id": "RO2yzvzPJgRo"
      },
      "execution_count": null,
      "outputs": []
    },
    {
      "cell_type": "code",
      "source": [
        "1-np.mean(np.abs(np.round(res)-ytest.ravel()))"
      ],
      "metadata": {
        "id": "yhnRxFwIMIV0"
      },
      "execution_count": null,
      "outputs": []
    },
    {
      "cell_type": "markdown",
      "source": [
        "## 2.2 Naive Bayes Classifier"
      ],
      "metadata": {
        "id": "cQoIZH05Kuce"
      }
    },
    {
      "cell_type": "code",
      "source": [
        "genderModel = BayesianRidge()\n",
        "genderModel.fit(X=xtrain,y=ytrain.ravel())"
      ],
      "metadata": {
        "id": "n6Kcr21ZKuB6"
      },
      "execution_count": null,
      "outputs": []
    },
    {
      "cell_type": "code",
      "source": [
        "res = genderModel.predict(xtest)\n",
        "min = np.min(res)\n",
        "max = np.max(res)\n",
        "res = (res-min)/(max-min)"
      ],
      "metadata": {
        "id": "IdvNYpkFLAZK"
      },
      "execution_count": null,
      "outputs": []
    },
    {
      "cell_type": "code",
      "source": [
        "1-np.mean(np.abs(np.round(res)-ytest.ravel()))"
      ],
      "metadata": {
        "id": "KHKFw4PjMsEy"
      },
      "execution_count": null,
      "outputs": []
    },
    {
      "cell_type": "markdown",
      "source": [
        "## 2.3 Deep Learning Classifier to identify Gender"
      ],
      "metadata": {
        "id": "vZrECCZB_DkT"
      }
    },
    {
      "cell_type": "code",
      "source": [
        "genderModel = Sequential([\n",
        "  Input(shape=(n_components,)),\n",
        "  Dense(units=n_components//4,activation=sigmoid),\n",
        "  Dense(units=n_components//16,activation=sigmoid),\n",
        "  Dense(units=1,activation=sigmoid),\n",
        "])\n",
        "\n",
        "genderModel.compile(optimizer=Adam(),loss=binary_crossentropy,metrics=[binary_accuracy])"
      ],
      "metadata": {
        "id": "P_KJnGfx_A9H"
      },
      "execution_count": null,
      "outputs": []
    },
    {
      "cell_type": "code",
      "source": [
        "genderModel.summary()"
      ],
      "metadata": {
        "id": "dbTRnq4rCUqQ"
      },
      "execution_count": null,
      "outputs": []
    },
    {
      "cell_type": "code",
      "source": [
        "genderModel.fit(x=xtrain,y=ytrain,batch_size=32,epochs=50,validation_data=(xtest,ytest))"
      ],
      "metadata": {
        "id": "30mDV_M6A5sZ"
      },
      "execution_count": null,
      "outputs": []
    },
    {
      "cell_type": "markdown",
      "metadata": {
        "id": "CfdwSLMwqU04"
      },
      "source": [
        "# 3. Principle Component Analysis based Image Compression for RGB Faces"
      ]
    },
    {
      "cell_type": "code",
      "execution_count": null,
      "metadata": {
        "id": "bL5CWR9msLWE"
      },
      "outputs": [],
      "source": [
        "ic = imread_collection(['/content/images/images/*.jpg'],conserve_memory=False)"
      ]
    },
    {
      "cell_type": "code",
      "execution_count": null,
      "metadata": {
        "id": "6bVjfIyk45F1"
      },
      "outputs": [],
      "source": [
        "rgb_train = list()\n",
        "\n",
        "for i,file in enumerate(ic.files):\n",
        "  ic.data[i] = img_as_float(ic.load_func(file))\n",
        "  ic.data[i] = resize(ic.data[i],(100,100))\n",
        "  rgb_train.append(ic.data[i].flatten())\n"
      ]
    },
    {
      "cell_type": "code",
      "execution_count": null,
      "metadata": {
        "id": "2u2JIp5Z-Ori"
      },
      "outputs": [],
      "source": [
        "rgb_train = np.array(rgb_train)"
      ]
    },
    {
      "cell_type": "code",
      "execution_count": null,
      "metadata": {
        "colab": {
          "background_save": true
        },
        "id": "fWpsTg-j9Bt5"
      },
      "outputs": [],
      "source": [
        "rgb_pca = IncrementalPCA(400)\n",
        "rgb_pca.fit(rgb_train)"
      ]
    },
    {
      "cell_type": "code",
      "execution_count": null,
      "metadata": {
        "colab": {
          "background_save": true
        },
        "id": "63Jk98SFAdtL"
      },
      "outputs": [],
      "source": [
        "i=np.random.randint(len(rgb_train))\n",
        "j=np.random.randint(len(rgb_train))\n",
        "\n",
        "img = ic.data[i]\n",
        "transformed_img = rgb_pca.transform(np.reshape(img.flatten(),(1,-1)))\n",
        "t_img1 = rgb_pca.inverse_transform(transformed_img)\n",
        "t_img1 = np.reshape(t_img1,(100,100,3))\n",
        "\n",
        "img = ic.data[j]\n",
        "transformed_img = rgb_pca.transform(np.reshape(img.flatten(),(1,-1)))\n",
        "t_img2 = rgb_pca.inverse_transform(transformed_img)\n",
        "t_img2 = np.reshape(t_img2,(100,100,3))\n",
        "\n",
        "plt.subplot(141)\n",
        "plt.imshow(ic.data[i],cmap='brg')\n",
        "plt.subplot(142)\n",
        "plt.imshow(t_img1,cmap='brg')\n",
        "plt.subplot(143)\n",
        "plt.imshow(ic.data[j],cmap='brg')\n",
        "plt.subplot(144)\n",
        "plt.imshow(t_img2,cmap='brg')\n",
        "plt.imshow(t_img2,cmap='brg')\n",
        "plt.show()\n",
        "plt.clf()"
      ]
    }
  ],
  "metadata": {
    "accelerator": "TPU",
    "colab": {
      "name": "Image_Compression.ipynb",
      "provenance": []
    },
    "kernelspec": {
      "display_name": "Python 3",
      "name": "python3"
    },
    "language_info": {
      "name": "python"
    }
  },
  "nbformat": 4,
  "nbformat_minor": 0
}